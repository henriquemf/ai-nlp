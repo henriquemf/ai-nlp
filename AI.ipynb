{
 "cells": [
  {
   "cell_type": "markdown",
   "id": "87ed9d9d",
   "metadata": {},
   "source": [
    "# Avaliação Intermediária - NLP\n",
    "\n",
    "### Feito por: \n",
    "- Henrique Martinelli Frezzatti"
   ]
  },
  {
   "cell_type": "markdown",
   "id": "decf6283",
   "metadata": {},
   "source": [
    "### Dataset obtained from:\n",
    "- https://www.kaggle.com/datasets/yelp-dataset/yelp-dataset?select=yelp_academic_dataset_review.json (yelp_academic_dataset_review.json)"
   ]
  },
  {
   "cell_type": "markdown",
   "id": "ff03e68e",
   "metadata": {},
   "source": [
    "Primeiramente, é necessário importar as bibliotecas que serão utilizadas no código, realizar os downloads das dependências e, também, realizar a criação de uma função para rodar uma parcela do dataset original, visto que o original possui mais de 5GB de tamanho."
   ]
  },
  {
   "cell_type": "code",
   "execution_count": 1,
   "id": "1e50b14c",
   "metadata": {},
   "outputs": [
    {
     "name": "stderr",
     "output_type": "stream",
     "text": [
      "C:\\ProgramData\\Anaconda3\\lib\\site-packages\\scipy\\__init__.py:146: UserWarning: A NumPy version >=1.16.5 and <1.23.0 is required for this version of SciPy (detected version 1.23.0\n",
      "  warnings.warn(f\"A NumPy version >={np_minversion} and <{np_maxversion}\"\n",
      "[nltk_data] Downloading package punkt to C:\\Users\\Henrique\n",
      "[nltk_data]     Martinelli\\AppData\\Roaming\\nltk_data...\n",
      "[nltk_data]   Package punkt is already up-to-date!\n",
      "[nltk_data] Downloading package wordnet to C:\\Users\\Henrique\n",
      "[nltk_data]     Martinelli\\AppData\\Roaming\\nltk_data...\n",
      "[nltk_data]   Package wordnet is already up-to-date!\n",
      "[nltk_data] Downloading package omw-1.4 to C:\\Users\\Henrique\n",
      "[nltk_data]     Martinelli\\AppData\\Roaming\\nltk_data...\n",
      "[nltk_data]   Package omw-1.4 is already up-to-date!\n"
     ]
    }
   ],
   "source": [
    "import pandas as pd\n",
    "import random\n",
    "import json\n",
    "import nltk\n",
    "import re\n",
    "import matplotlib.pyplot as plt\n",
    "from sklearn.model_selection import train_test_split\n",
    "from sklearn.feature_extraction.text import CountVectorizer, TfidfVectorizer\n",
    "from sklearn.linear_model import LogisticRegression\n",
    "from sklearn.ensemble import RandomForestClassifier\n",
    "from sklearn.metrics import balanced_accuracy_score, classification_report\n",
    "from nltk.corpus import wordnet\n",
    "from nltk.stem import WordNetLemmatizer\n",
    "from nltk.tokenize import word_tokenize\n",
    "from sklearn.neighbors import KNeighborsClassifier\n",
    "from sklearn.naive_bayes import GaussianNB\n",
    "from sklearn.model_selection import cross_val_score\n",
    "\n",
    "nltk.download('punkt')\n",
    "nltk.download('wordnet')\n",
    "nltk.download('omw-1.4')\n",
    "file_path = 'yelp_academic_dataset_review.json'\n",
    "\n",
    "def load_sample_json_to_df(file_path, fraction=0.1, seed=42):\n",
    "    data = []\n",
    "    random.seed(seed)  # Definir seed para reprodutibilidade\n",
    "    with open(file_path, 'r', encoding='utf-8') as f:\n",
    "        for line in f:\n",
    "            if random.random() < fraction:  # Seleciona 1/10 aleatoriamente\n",
    "                data.append(json.loads(line))\n",
    "    return pd.DataFrame(data)"
   ]
  },
  {
   "cell_type": "markdown",
   "id": "4a42d2d9",
   "metadata": {},
   "source": [
    "Feito isso, será carregado o arquivo em um DataFrame e serão mostrados quantos dados foram carregados."
   ]
  },
  {
   "cell_type": "code",
   "execution_count": 2,
   "id": "d51bb4b0",
   "metadata": {},
   "outputs": [
    {
     "name": "stdout",
     "output_type": "stream",
     "text": [
      "Total de reviews carregados: 69435\n"
     ]
    }
   ],
   "source": [
    "df = load_sample_json_to_df(file_path, fraction=0.01)\n",
    "print(f\"Total de reviews carregados: {len(df)}\")"
   ]
  },
  {
   "cell_type": "code",
   "execution_count": 3,
   "id": "df13d170",
   "metadata": {
    "scrolled": false
   },
   "outputs": [
    {
     "data": {
      "text/html": [
       "<div>\n",
       "<style scoped>\n",
       "    .dataframe tbody tr th:only-of-type {\n",
       "        vertical-align: middle;\n",
       "    }\n",
       "\n",
       "    .dataframe tbody tr th {\n",
       "        vertical-align: top;\n",
       "    }\n",
       "\n",
       "    .dataframe thead th {\n",
       "        text-align: right;\n",
       "    }\n",
       "</style>\n",
       "<table border=\"1\" class=\"dataframe\">\n",
       "  <thead>\n",
       "    <tr style=\"text-align: right;\">\n",
       "      <th></th>\n",
       "      <th>review_id</th>\n",
       "      <th>user_id</th>\n",
       "      <th>business_id</th>\n",
       "      <th>stars</th>\n",
       "      <th>useful</th>\n",
       "      <th>funny</th>\n",
       "      <th>cool</th>\n",
       "      <th>text</th>\n",
       "      <th>date</th>\n",
       "    </tr>\n",
       "  </thead>\n",
       "  <tbody>\n",
       "    <tr>\n",
       "      <th>0</th>\n",
       "      <td>Xs8Z8lmKkosqW5mw_sVAoA</td>\n",
       "      <td>IQsF3Rc6IgCzjVV9DE8KXg</td>\n",
       "      <td>eFvzHawVJofxSnD7TgbZtg</td>\n",
       "      <td>5.0</td>\n",
       "      <td>0</td>\n",
       "      <td>0</td>\n",
       "      <td>0</td>\n",
       "      <td>My absolute favorite cafe in the city. Their b...</td>\n",
       "      <td>2014-11-12 15:30:27</td>\n",
       "    </tr>\n",
       "    <tr>\n",
       "      <th>1</th>\n",
       "      <td>e4H9r1BSvBGAVQ-HvelnhA</td>\n",
       "      <td>1wN_Q-1fg46ZomOzf2tg5w</td>\n",
       "      <td>6p07zfmJWvytr0paqpyvbg</td>\n",
       "      <td>1.0</td>\n",
       "      <td>1</td>\n",
       "      <td>0</td>\n",
       "      <td>0</td>\n",
       "      <td>Worst place I've ever visited. The bouncer was...</td>\n",
       "      <td>2017-10-11 03:53:10</td>\n",
       "    </tr>\n",
       "    <tr>\n",
       "      <th>2</th>\n",
       "      <td>Mjbwb8HzZvq1m-0-PH0SJw</td>\n",
       "      <td>uBb5_DPYAXPYXvs9uhmGzg</td>\n",
       "      <td>tzVLTQNUtiCAxUZmEuF0vQ</td>\n",
       "      <td>3.0</td>\n",
       "      <td>0</td>\n",
       "      <td>0</td>\n",
       "      <td>0</td>\n",
       "      <td>Very cozy place to have a drink with friends. ...</td>\n",
       "      <td>2015-04-01 17:53:49</td>\n",
       "    </tr>\n",
       "    <tr>\n",
       "      <th>3</th>\n",
       "      <td>2_NKFcHlU7MAeWeGksTLKg</td>\n",
       "      <td>BBTexIhkFIYnS0rd56vsKQ</td>\n",
       "      <td>W4ZEKkva9HpAdZG88juwyQ</td>\n",
       "      <td>5.0</td>\n",
       "      <td>0</td>\n",
       "      <td>0</td>\n",
       "      <td>0</td>\n",
       "      <td>OMG! What an amazing dinner experience. A frie...</td>\n",
       "      <td>2017-10-24 22:39:51</td>\n",
       "    </tr>\n",
       "    <tr>\n",
       "      <th>4</th>\n",
       "      <td>AFBxqbyqu_rWk9Ax_-zesg</td>\n",
       "      <td>d0FbFaZuJWfai0RYsUS7qw</td>\n",
       "      <td>N9-NRK8PPvi73tduxoPKbA</td>\n",
       "      <td>3.0</td>\n",
       "      <td>1</td>\n",
       "      <td>1</td>\n",
       "      <td>0</td>\n",
       "      <td>By far some of the most comfy theater recliner...</td>\n",
       "      <td>2017-06-17 20:08:16</td>\n",
       "    </tr>\n",
       "    <tr>\n",
       "      <th>...</th>\n",
       "      <td>...</td>\n",
       "      <td>...</td>\n",
       "      <td>...</td>\n",
       "      <td>...</td>\n",
       "      <td>...</td>\n",
       "      <td>...</td>\n",
       "      <td>...</td>\n",
       "      <td>...</td>\n",
       "      <td>...</td>\n",
       "    </tr>\n",
       "    <tr>\n",
       "      <th>69430</th>\n",
       "      <td>swiUO8PqTOFkKEqdxXXIEg</td>\n",
       "      <td>pOlzxPM9aToS15yV9Cl6tQ</td>\n",
       "      <td>5gIfmupQTP3Lk4wIgNfoEQ</td>\n",
       "      <td>3.0</td>\n",
       "      <td>1</td>\n",
       "      <td>0</td>\n",
       "      <td>0</td>\n",
       "      <td>Tried this place out for the first time. Servi...</td>\n",
       "      <td>2018-08-12 17:16:31</td>\n",
       "    </tr>\n",
       "    <tr>\n",
       "      <th>69431</th>\n",
       "      <td>c25LzZf8m7IVxcEd1b8CkA</td>\n",
       "      <td>EqSWxn6_7hADuUU9hd0qkQ</td>\n",
       "      <td>oo0Jvm-p5fpDiaUAWkuqeg</td>\n",
       "      <td>1.0</td>\n",
       "      <td>0</td>\n",
       "      <td>0</td>\n",
       "      <td>0</td>\n",
       "      <td>Staff not friendly and service added without a...</td>\n",
       "      <td>2021-12-11 00:05:53</td>\n",
       "    </tr>\n",
       "    <tr>\n",
       "      <th>69432</th>\n",
       "      <td>mb8LuP_VHXMzu3Z-iS47dg</td>\n",
       "      <td>GEjwnX0gS5BpWjZ5rcM2FA</td>\n",
       "      <td>lRCA11IAq1VZqKIJCY8VBQ</td>\n",
       "      <td>5.0</td>\n",
       "      <td>4</td>\n",
       "      <td>1</td>\n",
       "      <td>3</td>\n",
       "      <td>Oh my, I'm officially on the Thai food train a...</td>\n",
       "      <td>2018-06-22 21:16:31</td>\n",
       "    </tr>\n",
       "    <tr>\n",
       "      <th>69433</th>\n",
       "      <td>S59qJdMRHiHMGqkBALCilg</td>\n",
       "      <td>S5RnOLjZOkEJXGhjR_EliQ</td>\n",
       "      <td>9xdXS7jtWjCVzL4_oPGv9A</td>\n",
       "      <td>5.0</td>\n",
       "      <td>0</td>\n",
       "      <td>0</td>\n",
       "      <td>0</td>\n",
       "      <td>My husband and I had an incredible meal/experi...</td>\n",
       "      <td>2021-12-01 03:55:51</td>\n",
       "    </tr>\n",
       "    <tr>\n",
       "      <th>69434</th>\n",
       "      <td>8yc7YWCe6lVU4RDmh-Ww1Q</td>\n",
       "      <td>3kJ4ktaXV-RVm49M-y1uTg</td>\n",
       "      <td>B2sF6QFCUFlfGb1QzWAyqg</td>\n",
       "      <td>3.0</td>\n",
       "      <td>0</td>\n",
       "      <td>0</td>\n",
       "      <td>0</td>\n",
       "      <td>My favorite place to pick up sports supplement...</td>\n",
       "      <td>2017-11-09 15:23:57</td>\n",
       "    </tr>\n",
       "  </tbody>\n",
       "</table>\n",
       "<p>69435 rows × 9 columns</p>\n",
       "</div>"
      ],
      "text/plain": [
       "                    review_id                 user_id             business_id  \\\n",
       "0      Xs8Z8lmKkosqW5mw_sVAoA  IQsF3Rc6IgCzjVV9DE8KXg  eFvzHawVJofxSnD7TgbZtg   \n",
       "1      e4H9r1BSvBGAVQ-HvelnhA  1wN_Q-1fg46ZomOzf2tg5w  6p07zfmJWvytr0paqpyvbg   \n",
       "2      Mjbwb8HzZvq1m-0-PH0SJw  uBb5_DPYAXPYXvs9uhmGzg  tzVLTQNUtiCAxUZmEuF0vQ   \n",
       "3      2_NKFcHlU7MAeWeGksTLKg  BBTexIhkFIYnS0rd56vsKQ  W4ZEKkva9HpAdZG88juwyQ   \n",
       "4      AFBxqbyqu_rWk9Ax_-zesg  d0FbFaZuJWfai0RYsUS7qw  N9-NRK8PPvi73tduxoPKbA   \n",
       "...                       ...                     ...                     ...   \n",
       "69430  swiUO8PqTOFkKEqdxXXIEg  pOlzxPM9aToS15yV9Cl6tQ  5gIfmupQTP3Lk4wIgNfoEQ   \n",
       "69431  c25LzZf8m7IVxcEd1b8CkA  EqSWxn6_7hADuUU9hd0qkQ  oo0Jvm-p5fpDiaUAWkuqeg   \n",
       "69432  mb8LuP_VHXMzu3Z-iS47dg  GEjwnX0gS5BpWjZ5rcM2FA  lRCA11IAq1VZqKIJCY8VBQ   \n",
       "69433  S59qJdMRHiHMGqkBALCilg  S5RnOLjZOkEJXGhjR_EliQ  9xdXS7jtWjCVzL4_oPGv9A   \n",
       "69434  8yc7YWCe6lVU4RDmh-Ww1Q  3kJ4ktaXV-RVm49M-y1uTg  B2sF6QFCUFlfGb1QzWAyqg   \n",
       "\n",
       "       stars  useful  funny  cool  \\\n",
       "0        5.0       0      0     0   \n",
       "1        1.0       1      0     0   \n",
       "2        3.0       0      0     0   \n",
       "3        5.0       0      0     0   \n",
       "4        3.0       1      1     0   \n",
       "...      ...     ...    ...   ...   \n",
       "69430    3.0       1      0     0   \n",
       "69431    1.0       0      0     0   \n",
       "69432    5.0       4      1     3   \n",
       "69433    5.0       0      0     0   \n",
       "69434    3.0       0      0     0   \n",
       "\n",
       "                                                    text                 date  \n",
       "0      My absolute favorite cafe in the city. Their b...  2014-11-12 15:30:27  \n",
       "1      Worst place I've ever visited. The bouncer was...  2017-10-11 03:53:10  \n",
       "2      Very cozy place to have a drink with friends. ...  2015-04-01 17:53:49  \n",
       "3      OMG! What an amazing dinner experience. A frie...  2017-10-24 22:39:51  \n",
       "4      By far some of the most comfy theater recliner...  2017-06-17 20:08:16  \n",
       "...                                                  ...                  ...  \n",
       "69430  Tried this place out for the first time. Servi...  2018-08-12 17:16:31  \n",
       "69431  Staff not friendly and service added without a...  2021-12-11 00:05:53  \n",
       "69432  Oh my, I'm officially on the Thai food train a...  2018-06-22 21:16:31  \n",
       "69433  My husband and I had an incredible meal/experi...  2021-12-01 03:55:51  \n",
       "69434  My favorite place to pick up sports supplement...  2017-11-09 15:23:57  \n",
       "\n",
       "[69435 rows x 9 columns]"
      ]
     },
     "execution_count": 3,
     "metadata": {},
     "output_type": "execute_result"
    }
   ],
   "source": [
    "df"
   ]
  },
  {
   "cell_type": "markdown",
   "id": "b90e1b58",
   "metadata": {},
   "source": [
    "Abaixo, será realizado uma limpeza do dataframe, removendo colunas desnecessárias. "
   ]
  },
  {
   "cell_type": "code",
   "execution_count": 4,
   "id": "6e18ef6a",
   "metadata": {
    "scrolled": false
   },
   "outputs": [
    {
     "data": {
      "text/html": [
       "<div>\n",
       "<style scoped>\n",
       "    .dataframe tbody tr th:only-of-type {\n",
       "        vertical-align: middle;\n",
       "    }\n",
       "\n",
       "    .dataframe tbody tr th {\n",
       "        vertical-align: top;\n",
       "    }\n",
       "\n",
       "    .dataframe thead th {\n",
       "        text-align: right;\n",
       "    }\n",
       "</style>\n",
       "<table border=\"1\" class=\"dataframe\">\n",
       "  <thead>\n",
       "    <tr style=\"text-align: right;\">\n",
       "      <th></th>\n",
       "      <th>stars</th>\n",
       "      <th>useful</th>\n",
       "      <th>funny</th>\n",
       "      <th>cool</th>\n",
       "      <th>text</th>\n",
       "      <th>date</th>\n",
       "    </tr>\n",
       "  </thead>\n",
       "  <tbody>\n",
       "    <tr>\n",
       "      <th>0</th>\n",
       "      <td>5.0</td>\n",
       "      <td>0</td>\n",
       "      <td>0</td>\n",
       "      <td>0</td>\n",
       "      <td>My absolute favorite cafe in the city. Their b...</td>\n",
       "      <td>2014-11-12 15:30:27</td>\n",
       "    </tr>\n",
       "    <tr>\n",
       "      <th>1</th>\n",
       "      <td>1.0</td>\n",
       "      <td>1</td>\n",
       "      <td>0</td>\n",
       "      <td>0</td>\n",
       "      <td>Worst place I've ever visited. The bouncer was...</td>\n",
       "      <td>2017-10-11 03:53:10</td>\n",
       "    </tr>\n",
       "    <tr>\n",
       "      <th>2</th>\n",
       "      <td>3.0</td>\n",
       "      <td>0</td>\n",
       "      <td>0</td>\n",
       "      <td>0</td>\n",
       "      <td>Very cozy place to have a drink with friends. ...</td>\n",
       "      <td>2015-04-01 17:53:49</td>\n",
       "    </tr>\n",
       "    <tr>\n",
       "      <th>3</th>\n",
       "      <td>5.0</td>\n",
       "      <td>0</td>\n",
       "      <td>0</td>\n",
       "      <td>0</td>\n",
       "      <td>OMG! What an amazing dinner experience. A frie...</td>\n",
       "      <td>2017-10-24 22:39:51</td>\n",
       "    </tr>\n",
       "    <tr>\n",
       "      <th>4</th>\n",
       "      <td>3.0</td>\n",
       "      <td>1</td>\n",
       "      <td>1</td>\n",
       "      <td>0</td>\n",
       "      <td>By far some of the most comfy theater recliner...</td>\n",
       "      <td>2017-06-17 20:08:16</td>\n",
       "    </tr>\n",
       "  </tbody>\n",
       "</table>\n",
       "</div>"
      ],
      "text/plain": [
       "   stars  useful  funny  cool  \\\n",
       "0    5.0       0      0     0   \n",
       "1    1.0       1      0     0   \n",
       "2    3.0       0      0     0   \n",
       "3    5.0       0      0     0   \n",
       "4    3.0       1      1     0   \n",
       "\n",
       "                                                text                 date  \n",
       "0  My absolute favorite cafe in the city. Their b...  2014-11-12 15:30:27  \n",
       "1  Worst place I've ever visited. The bouncer was...  2017-10-11 03:53:10  \n",
       "2  Very cozy place to have a drink with friends. ...  2015-04-01 17:53:49  \n",
       "3  OMG! What an amazing dinner experience. A frie...  2017-10-24 22:39:51  \n",
       "4  By far some of the most comfy theater recliner...  2017-06-17 20:08:16  "
      ]
     },
     "execution_count": 4,
     "metadata": {},
     "output_type": "execute_result"
    }
   ],
   "source": [
    "df.drop(columns=['review_id', 'user_id', 'business_id'], inplace=True)\n",
    "df.head()"
   ]
  },
  {
   "cell_type": "markdown",
   "id": "c9d2cc05",
   "metadata": {},
   "source": [
    "Agora, será utilizado o Lemmatizer para reduzir as palavras às suas formas base ou lemmas, preservando o significado sem perder informações gramaticais. Diferente do stemming, que apenas remove sufixos de maneira mais simplificada, a lemmatização leva em conta o contexto da palavra, permitindo que palavras derivadas, como verbos conjugados ou palavras no plural, sejam reduzidas à sua forma raiz de maneira mais precisa."
   ]
  },
  {
   "cell_type": "code",
   "execution_count": 5,
   "id": "8b8f965e",
   "metadata": {},
   "outputs": [
    {
     "data": {
      "text/html": [
       "<div>\n",
       "<style scoped>\n",
       "    .dataframe tbody tr th:only-of-type {\n",
       "        vertical-align: middle;\n",
       "    }\n",
       "\n",
       "    .dataframe tbody tr th {\n",
       "        vertical-align: top;\n",
       "    }\n",
       "\n",
       "    .dataframe thead th {\n",
       "        text-align: right;\n",
       "    }\n",
       "</style>\n",
       "<table border=\"1\" class=\"dataframe\">\n",
       "  <thead>\n",
       "    <tr style=\"text-align: right;\">\n",
       "      <th></th>\n",
       "      <th>stars</th>\n",
       "      <th>useful</th>\n",
       "      <th>funny</th>\n",
       "      <th>cool</th>\n",
       "      <th>text</th>\n",
       "      <th>date</th>\n",
       "      <th>text_clean</th>\n",
       "    </tr>\n",
       "  </thead>\n",
       "  <tbody>\n",
       "    <tr>\n",
       "      <th>0</th>\n",
       "      <td>5.0</td>\n",
       "      <td>0</td>\n",
       "      <td>0</td>\n",
       "      <td>0</td>\n",
       "      <td>My absolute favorite cafe in the city. Their b...</td>\n",
       "      <td>2014-11-12 15:30:27</td>\n",
       "      <td>my absolute favorite cafe in the city their bl...</td>\n",
       "    </tr>\n",
       "    <tr>\n",
       "      <th>1</th>\n",
       "      <td>1.0</td>\n",
       "      <td>1</td>\n",
       "      <td>0</td>\n",
       "      <td>0</td>\n",
       "      <td>Worst place I've ever visited. The bouncer was...</td>\n",
       "      <td>2017-10-11 03:53:10</td>\n",
       "      <td>worst place ive ever visited the bouncer wa ru...</td>\n",
       "    </tr>\n",
       "    <tr>\n",
       "      <th>2</th>\n",
       "      <td>3.0</td>\n",
       "      <td>0</td>\n",
       "      <td>0</td>\n",
       "      <td>0</td>\n",
       "      <td>Very cozy place to have a drink with friends. ...</td>\n",
       "      <td>2015-04-01 17:53:49</td>\n",
       "      <td>very cozy place to have a drink with friend th...</td>\n",
       "    </tr>\n",
       "    <tr>\n",
       "      <th>3</th>\n",
       "      <td>5.0</td>\n",
       "      <td>0</td>\n",
       "      <td>0</td>\n",
       "      <td>0</td>\n",
       "      <td>OMG! What an amazing dinner experience. A frie...</td>\n",
       "      <td>2017-10-24 22:39:51</td>\n",
       "      <td>omg what an amazing dinner experience a friend...</td>\n",
       "    </tr>\n",
       "    <tr>\n",
       "      <th>4</th>\n",
       "      <td>3.0</td>\n",
       "      <td>1</td>\n",
       "      <td>1</td>\n",
       "      <td>0</td>\n",
       "      <td>By far some of the most comfy theater recliner...</td>\n",
       "      <td>2017-06-17 20:08:16</td>\n",
       "      <td>by far some of the most comfy theater recliner...</td>\n",
       "    </tr>\n",
       "  </tbody>\n",
       "</table>\n",
       "</div>"
      ],
      "text/plain": [
       "   stars  useful  funny  cool  \\\n",
       "0    5.0       0      0     0   \n",
       "1    1.0       1      0     0   \n",
       "2    3.0       0      0     0   \n",
       "3    5.0       0      0     0   \n",
       "4    3.0       1      1     0   \n",
       "\n",
       "                                                text                 date  \\\n",
       "0  My absolute favorite cafe in the city. Their b...  2014-11-12 15:30:27   \n",
       "1  Worst place I've ever visited. The bouncer was...  2017-10-11 03:53:10   \n",
       "2  Very cozy place to have a drink with friends. ...  2015-04-01 17:53:49   \n",
       "3  OMG! What an amazing dinner experience. A frie...  2017-10-24 22:39:51   \n",
       "4  By far some of the most comfy theater recliner...  2017-06-17 20:08:16   \n",
       "\n",
       "                                          text_clean  \n",
       "0  my absolute favorite cafe in the city their bl...  \n",
       "1  worst place ive ever visited the bouncer wa ru...  \n",
       "2  very cozy place to have a drink with friend th...  \n",
       "3  omg what an amazing dinner experience a friend...  \n",
       "4  by far some of the most comfy theater recliner...  "
      ]
     },
     "execution_count": 5,
     "metadata": {},
     "output_type": "execute_result"
    }
   ],
   "source": [
    "lemmatizer = WordNetLemmatizer()\n",
    "\n",
    "def clean_text(text):\n",
    "    text = re.sub(r'[^a-zA-Z\\s]', '', text)\n",
    "    words = word_tokenize(text.lower())\n",
    "    words = [lemmatizer.lemmatize(word) for word in words if word.isalpha()]\n",
    "    return ' '.join(words)\n",
    "\n",
    "df['text_clean'] = df['text'].apply(clean_text)\n",
    "df.head()"
   ]
  },
  {
   "cell_type": "markdown",
   "id": "09aabaf1",
   "metadata": {},
   "source": [
    "Separando em treino e teste, além da coluna que será utilizada para classificar (Y) e a coluna que será classificada (X)."
   ]
  },
  {
   "cell_type": "code",
   "execution_count": 6,
   "id": "3de57c87",
   "metadata": {},
   "outputs": [],
   "source": [
    "X = df['text_clean']\n",
    "y = df['stars'] \n",
    "\n",
    "X_train, X_test, y_train, y_test = train_test_split(X, y, test_size=0.2, random_state=42)"
   ]
  },
  {
   "cell_type": "markdown",
   "id": "62308bea",
   "metadata": {},
   "source": [
    "Agora, utilizando a técnica de Bag of Words (BoW), o dataset será transformado em uma representação numérica onde cada review será convertido em um vetor de frequências de palavras. Isso permitirá que os modelos de machine learning possam processar os dados textuais e aprender padrões baseados nas ocorrências de palavras, ignorando a ordem delas."
   ]
  },
  {
   "cell_type": "code",
   "execution_count": 7,
   "id": "a5c430fd",
   "metadata": {},
   "outputs": [],
   "source": [
    "# Vetorização do texto (Bag of Words)\n",
    "vectorizer = CountVectorizer(max_features=5000)\n",
    "X_train_bow = vectorizer.fit_transform(X_train)\n",
    "X_test_bow = vectorizer.transform(X_test)"
   ]
  },
  {
   "cell_type": "markdown",
   "id": "46bde3c4",
   "metadata": {},
   "source": [
    "Definindo os modelos que serão utilizados para os treinamentos, aplicaremos técnicas de machine learning como Logistic Regression, K-Nearest Neighbors (KNN) e Random Forest. Esses modelos serão testados e avaliados por meio de validação cruzada (cross-validation), que consiste em dividir o dataset em várias partes (ou folds), onde em cada iteração o modelo é treinado em uma parte e testado na outra."
   ]
  },
  {
   "cell_type": "code",
   "execution_count": 8,
   "id": "a0d3f36a",
   "metadata": {},
   "outputs": [
    {
     "name": "stdout",
     "output_type": "stream",
     "text": [
      "\n",
      "--- Avaliando Logistic Regression ---\n",
      "Balanced Accuracy for Logistic Regression (CV): 0.5115660624594286 ± 0.0013471885875160911\n",
      "\n",
      "--- Avaliando KNN ---\n",
      "Balanced Accuracy for KNN (CV): 0.30698468268184864 ± 0.0007630020876805453\n",
      "\n",
      "--- Avaliando Random Forest ---\n",
      "Balanced Accuracy for Random Forest (CV): 0.3840729661742663 ± 0.0021713079734676697\n"
     ]
    }
   ],
   "source": [
    "# Lista de modelos a serem testados\n",
    "model_names = ['Logistic Regression', 'KNN', 'Random Forest']\n",
    "models = [\n",
    "    LogisticRegression(solver='liblinear', max_iter=1000),\n",
    "    KNeighborsClassifier(),\n",
    "    RandomForestClassifier(random_state=42)  \n",
    "]\n",
    "\n",
    "# Dicionário para armazenar as acurácias\n",
    "accuracies = {}\n",
    "\n",
    "# Avaliação dos modelos com validação cruzada\n",
    "for model_name, model in zip(model_names, models):\n",
    "    print(f\"\\n--- Avaliando {model_name} ---\")\n",
    "    \n",
    "    # Cross-validation\n",
    "    scores = cross_val_score(model, vectorizer.transform(X), y, cv=3, scoring='balanced_accuracy')\n",
    "    \n",
    "    # Armazenar os scores\n",
    "    accuracies[model_name] = scores\n",
    "    print(f\"Balanced Accuracy for {model_name} (CV): {scores.mean()} ± {scores.std()}\")"
   ]
  },
  {
   "cell_type": "markdown",
   "id": "d8ee898c",
   "metadata": {},
   "source": [
    "Apesar de não possuir uma acurácia muito alta, o melhor modelo, como pode ser identificado acima, foi a Regressão Logística, com um score aproximado de 0.51. \n",
    "\n",
    "Abaixo, há representações gráficas que ilustram a média das acurácias obtidas para cada modelo, acompanhadas de barras de erro que representam o desvio padrão das acurácias em relação às iterações de validação cruzada"
   ]
  },
  {
   "cell_type": "code",
   "execution_count": 20,
   "id": "183e8027",
   "metadata": {},
   "outputs": [
    {
     "data": {
      "image/png": "[encoded data removed]",
      "text/plain": [
       "<Figure size 720x432 with 1 Axes>"
      ]
     },
     "metadata": {
      "needs_background": "light"
     },
     "output_type": "display_data"
    }
   ],
   "source": [
    "# Calcula a média e o desvio padrão das acurácias\n",
    "mean_accuracies = scores_df.mean()\n",
    "std_accuracies = scores_df.std()\n",
    "\n",
    "# Plotando o gráfico de barras com barra de erro\n",
    "plt.figure(figsize=(10, 6))\n",
    "mean_accuracies.plot(kind='bar', yerr=std_accuracies, capsize=4, color='skyblue')\n",
    "plt.title('Média das Acurácias com Barra de Erro')\n",
    "plt.ylabel('Balanced Accuracy')\n",
    "plt.xlabel('Classification Models')\n",
    "plt.xticks(rotation=45)\n",
    "plt.show()"
   ]
  },
  {
   "cell_type": "code",
   "execution_count": 11,
   "id": "43986ae0",
   "metadata": {},
   "outputs": [
    {
     "data": {
      "image/png": "[encoded data removed]",
      "text/plain": [
       "<Figure size 720x432 with 1 Axes>"
      ]
     },
     "metadata": {
      "needs_background": "light"
     },
     "output_type": "display_data"
    }
   ],
   "source": [
    "import seaborn as sns\n",
    "\n",
    "# Convertendo para um formato adequado para o gráfico de violino\n",
    "scores_melted = pd.melt(scores_df, var_name='Model', value_name='Accuracy')\n",
    "\n",
    "# Plotando o gráfico de violino\n",
    "plt.figure(figsize=(10, 6))\n",
    "sns.violinplot(x='Model', y='Accuracy', data=scores_melted)\n",
    "plt.title('Distribuição das Acurácias por Modelo')\n",
    "plt.ylabel('Balanced Accuracy')\n",
    "plt.xlabel('Classification Models')\n",
    "plt.xticks(rotation=45)\n",
    "plt.show()"
   ]
  },
  {
   "cell_type": "markdown",
   "id": "ebfbd2eb",
   "metadata": {},
   "source": [
    "Agora, haverá o treinamento com cada um dos modelos separadamente para poder identificar as palavras que foram selecionadas como mais importantes para a classificação em cada modelo, seja para um extremo ou outro."
   ]
  },
  {
   "cell_type": "code",
   "execution_count": 16,
   "id": "d35f76f4",
   "metadata": {},
   "outputs": [
    {
     "name": "stdout",
     "output_type": "stream",
     "text": [
      "\n",
      "Top palavras para Logistic Regression:\n",
      "neat: -2.3688\n",
      "poisoning: 2.1538\n",
      "perfection: -2.1466\n",
      "scam: 2.0400\n",
      "worst: 1.9827\n",
      "importantly: -1.9784\n",
      "dream: -1.9055\n",
      "ghetto: 1.8507\n",
      "awesome: -1.7991\n",
      "golden: -1.7919\n",
      "\n",
      "\n",
      "\n",
      "Top palavras para KNN:\n",
      "\n",
      "\n",
      "\n",
      "Top palavras para Random Forest:\n",
      "not: 0.0114\n",
      "but: 0.0107\n",
      "great: 0.0081\n",
      "good: 0.0081\n",
      "the: 0.0073\n",
      "and: 0.0071\n",
      "amazing: 0.0066\n",
      "wa: 0.0062\n",
      "to: 0.0061\n",
      "it: 0.0057\n",
      "\n",
      "\n"
     ]
    }
   ],
   "source": [
    "# Obter as palavras mais importantes após o treinamento\n",
    "for model_name, model in zip(model_names, models):\n",
    "    # Treinando o modelo completo para obter as palavras mais importantes\n",
    "    model.fit(X_train_bow, y_train)\n",
    "    \n",
    "    # Obter as palavras mais importantes\n",
    "    feature_names = vectorizer.get_feature_names_out()\n",
    "    print(f\"\\nTop palavras para {model_name}:\")\n",
    "\n",
    "    if hasattr(model, \"coef_\"):\n",
    "        # Para modelos lineares como Logistic Regression\n",
    "        coefficients = model.coef_[0]\n",
    "        important_words = sorted(zip(coefficients, feature_names), key=lambda x: abs(x[0]), reverse=True)[:10]\n",
    "        for coef, word in important_words:\n",
    "            print(f\"{word}: {coef:.4f}\")\n",
    "    \n",
    "    elif hasattr(model, \"feature_importances_\"):\n",
    "        # Para modelos baseados em árvores como Random Forest\n",
    "        importances = model.feature_importances_\n",
    "        important_words = sorted(zip(importances, feature_names), key=lambda x: x[0], reverse=True)[:10]\n",
    "        for importance, word in important_words:\n",
    "            print(f\"{word}: {importance:.4f}\")\n",
    "    \n",
    "    print(\"\\n\")"
   ]
  },
  {
   "cell_type": "markdown",
   "id": "bc2d82ca",
   "metadata": {},
   "source": [
    "Realizando downsizing para testar a acurácia de cada modelo com diferentes tamanhos do dataset de treino."
   ]
  },
  {
   "cell_type": "code",
   "execution_count": 18,
   "id": "f112a98e",
   "metadata": {},
   "outputs": [
    {
     "name": "stdout",
     "output_type": "stream",
     "text": [
      "Accuracy for Logistic Regression with 10.0% of the data: 0.4747\n",
      "Accuracy for KNN with 10.0% of the data: 0.2878\n",
      "Accuracy for Random Forest with 10.0% of the data: 0.3408\n",
      "Accuracy for Logistic Regression with 25.0% of the data: 0.4958\n",
      "Accuracy for KNN with 25.0% of the data: 0.2965\n",
      "Accuracy for Random Forest with 25.0% of the data: 0.3624\n",
      "Accuracy for Logistic Regression with 50.0% of the data: 0.5004\n",
      "Accuracy for KNN with 50.0% of the data: 0.2990\n",
      "Accuracy for Random Forest with 50.0% of the data: 0.3827\n",
      "Accuracy for Logistic Regression with 75.0% of the data: 0.5099\n",
      "Accuracy for KNN with 75.0% of the data: 0.3062\n",
      "Accuracy for Random Forest with 75.0% of the data: 0.3860\n"
     ]
    }
   ],
   "source": [
    "# Tamanhos para testar (e.g., 10%, 25%, 50%, 75%)\n",
    "dataset_sizes = [0.1, 0.25, 0.5, 0.75]\n",
    "results = {}\n",
    "\n",
    "for size in dataset_sizes:\n",
    "    # Reduzindo o dataset\n",
    "    X_train_sample, _, y_train_sample, _ = train_test_split(X_train_bow, y_train, train_size=size, stratify=y_train)\n",
    "    \n",
    "    # Re-treine e avalie os modelos com o dataset reduzido\n",
    "    for model_name, model in zip(model_names, models):\n",
    "        model.fit(X_train_sample, y_train_sample)\n",
    "        \n",
    "        # Avaliar no dataset de teste\n",
    "        y_pred = model.predict(X_test_bow)\n",
    "        acc = balanced_accuracy_score(y_test, y_pred)\n",
    "        \n",
    "        # Armazenar resultados\n",
    "        results[(model_name, size)] = acc\n",
    "        print(f\"Accuracy for {model_name} with {size*100}% of the data: {acc:.4f}\")\n"
   ]
  },
  {
   "cell_type": "markdown",
   "id": "11b4e39a",
   "metadata": {},
   "source": [
    "Utilizando o Latent Dirichlet Allocation (LDA) para modelagem de tópicos, temos a oportunidade de explorar as relações intrínsecas dentro do conjunto de dados. O LDA é uma técnica de aprendizado não supervisionado que permite identificar tópicos ocultos em um corpus de documentos, ao assumir que cada documento é uma mistura de tópicos e que cada tópico é caracterizado por uma distribuição de palavras."
   ]
  },
  {
   "cell_type": "code",
   "execution_count": 19,
   "id": "10017075",
   "metadata": {},
   "outputs": [
    {
     "name": "stdout",
     "output_type": "stream",
     "text": [
      "\n",
      "Top palavras por tópico:\n",
      "Tópico 0: the is and to you of in it are they\n",
      "Tópico 1: the and wa it of to with we for had\n",
      "Tópico 2: the to and wa my it that for they of\n",
      "Tópico 3: the and to of wa it in we for on\n",
      "Tópico 4: and the to is wa food great for we service\n"
     ]
    }
   ],
   "source": [
    "from sklearn.decomposition import LatentDirichletAllocation\n",
    "\n",
    "# Aplicar LDA para identificar tópicos\n",
    "n_topics = 5\n",
    "lda = LatentDirichletAllocation(n_components=n_topics, random_state=42)\n",
    "X_topics = lda.fit_transform(X_train_bow)\n",
    "\n",
    "# Exibir as palavras mais relevantes para cada tópico\n",
    "n_top_words = 10\n",
    "topic_words = lda.components_\n",
    "\n",
    "print(\"\\nTop palavras por tópico:\")\n",
    "for topic_idx, topic in enumerate(topic_words):\n",
    "    print(f\"Tópico {topic_idx}: {' '.join([vectorizer.get_feature_names_out()[i] for i in topic.argsort()[:-n_top_words - 1:-1]])}\")\n"
   ]
  }
 ],
 "metadata": {
  "kernelspec": {
   "display_name": "Python 3 (ipykernel)",
   "language": "python",
   "name": "python3"
  },
  "language_info": {
   "codemirror_mode": {
    "name": "ipython",
    "version": 3
   },
   "file_extension": ".py",
   "mimetype": "text/x-python",
   "name": "python",
   "nbconvert_exporter": "python",
   "pygments_lexer": "ipython3",
   "version": "3.9.12"
  }
 },
 "nbformat": 4,
 "nbformat_minor": 5
}
